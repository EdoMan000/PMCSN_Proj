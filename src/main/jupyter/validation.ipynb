{
 "cells": [
  {
   "cell_type": "code",
   "id": "initial_id",
   "metadata": {
    "collapsed": true,
    "ExecuteTime": {
     "end_time": "2024-08-20T15:35:38.804485Z",
     "start_time": "2024-08-20T15:35:38.193523Z"
    }
   },
   "source": [
    "import pandas as pd\n",
    "import os\n",
    "\n",
    "csv_dir = '../../../csvFiles/'\n",
    "if csv_dir == '':\n",
    "    raise ValueError('Specificare un percorso valido!')\n",
    "\n",
    "def load_csv(path: str) -> pd.DataFrame:\n",
    "    return pd.read_csv(path, sep='\\\\s*,\\\\s*', engine='python')\n"
   ],
   "outputs": [],
   "execution_count": 1
  },
  {
   "metadata": {
    "ExecuteTime": {
     "end_time": "2024-08-20T15:35:38.812812Z",
     "start_time": "2024-08-20T15:35:38.806230Z"
    }
   },
   "cell_type": "code",
   "source": [
    "from collections import defaultdict\n",
    "\n",
    "failures = {}\n",
    "for sim in ('FINITE_SIMULATION', 'IMPROVED_FINITE_SIMULATION'):\n",
    "    parent = os.path.join(csv_dir, sim, 'results')\n",
    "    failures[sim] = defaultdict(int)\n",
    "    for file_name in os.listdir(parent):\n",
    "        center_name: str = file_name.replace('.csv', '')\n",
    "        path = os.path.join(parent, file_name)\n",
    "        df: pd.DataFrame = load_csv(path)\n",
    "        for i, row in df.iterrows():\n",
    "            if abs((row['E[Tq]'] + row['E[s]']) - row['E[Ts]']) > 1e-6:\n",
    "                failures[sim][center_name] += 1\n",
    "for k, v in failures.items():\n",
    "    print(k)\n",
    "    for c, f in v.items():\n",
    "        print(f'{c}: {f}')\n",
    "    print()"
   ],
   "id": "2079da13cf354fce",
   "outputs": [
    {
     "ename": "SyntaxError",
     "evalue": "expected ':' (3487860328.py, line 12)",
     "output_type": "error",
     "traceback": [
      "\u001B[0;36m  Cell \u001B[0;32mIn[2], line 12\u001B[0;36m\u001B[0m\n\u001B[0;31m    if row['E']\u001B[0m\n\u001B[0m               ^\u001B[0m\n\u001B[0;31mSyntaxError\u001B[0m\u001B[0;31m:\u001B[0m expected ':'\n"
     ]
    }
   ],
   "execution_count": 2
  },
  {
   "metadata": {},
   "cell_type": "code",
   "source": "",
   "id": "2aa42b9ffe5c9dce",
   "outputs": [],
   "execution_count": null
  },
  {
   "metadata": {},
   "cell_type": "code",
   "source": "",
   "id": "5fad6513cb41663e",
   "outputs": [],
   "execution_count": null
  }
 ],
 "metadata": {
  "kernelspec": {
   "display_name": "Python 3",
   "language": "python",
   "name": "python3"
  },
  "language_info": {
   "codemirror_mode": {
    "name": "ipython",
    "version": 2
   },
   "file_extension": ".py",
   "mimetype": "text/x-python",
   "name": "python",
   "nbconvert_exporter": "python",
   "pygments_lexer": "ipython2",
   "version": "2.7.6"
  }
 },
 "nbformat": 4,
 "nbformat_minor": 5
}
