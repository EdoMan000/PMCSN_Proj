{
 "cells": [
  {
   "metadata": {
    "ExecuteTime": {
     "end_time": "2024-08-20T07:32:47.788728Z",
     "start_time": "2024-08-20T07:32:47.266481Z"
    }
   },
   "cell_type": "code",
   "source": [
    "import math\n",
    "import os\n",
    "\n",
    "import pandas as pd\n",
    "\n",
    "import rvms\n",
    "\n",
    "csv_dir = '../../../csvFiles/'\n",
    "if csv_dir == '':\n",
    "    raise ValueError('Specificare un percorso valido!')\n",
    "\n",
    "def load_csv(path: str) -> pd.DataFrame:\n",
    "    return pd.read_csv(path, sep='\\\\s*,\\\\s*', engine='python')\n",
    "\n",
    "def confidence_interval(values: list[float], loc: float=0.95) -> float:\n",
    "    n: int = len(values)\n",
    "    if n <= 1:\n",
    "        raise ValueError(\"list of 2+ elements required\")\n",
    "    mean = sum(values) / n\n",
    "    std = sum(map(lambda x: (x - mean)**2, values)) / n\n",
    "    u = 1.0 - 0.5 * (1.0 - loc)\n",
    "    t = rvms.idfStudent(n - 1, u)\n",
    "    return t * std / math.sqrt(n - 1)\n",
    "    "
   ],
   "id": "ec59b182e29e05e",
   "outputs": [],
   "execution_count": 2
  },
  {
   "metadata": {
    "ExecuteTime": {
     "end_time": "2024-08-20T08:20:24.933836Z",
     "start_time": "2024-08-20T08:20:24.917499Z"
    }
   },
   "cell_type": "code",
   "source": [
    "def format_center_name(s: str) -> str:\n",
    "    s = s.replace('_', ' ')\n",
    "    if len(s) > 4:\n",
    "        s = s[:4] + '\\\\ldots'\n",
    "    return s\n",
    "\n",
    "def sci(x: float, nf: int=4) -> str:\n",
    "    if x == 0:\n",
    "        return str(x)\n",
    "    if x < 1:\n",
    "        exp = 0\n",
    "        while x < 1:\n",
    "            x *= 10\n",
    "            exp += 1\n",
    "        return f'{x:.4f} \\\\cdot 10^{{-{exp}}}'\n",
    "    else:\n",
    "        return f'{x:.4f}'\n",
    "\n",
    "def create_table(\n",
    "        parent_dir: str,\n",
    "        simulation_type = ('FINITE_SIMULATION', 'IMPROVED_FINITE_SIMULATION'),\n",
    "        indexes = ('E[Ns]', 'E[Ts]', 'E[Nq]', 'E[Tq]', 'E[s]', 'ρ', 'λ')):\n",
    "    data: list[list[str]] = []\n",
    "    # ['Reparto Istruttorie', 'Scoring Automatico', 'Comitato Credito', 'Reparto Liquidazioni']\n",
    "    for sim in simulation_type:\n",
    "        parent = os.path.join(csv_dir, sim, 'results')\n",
    "        for file_name in os.listdir(parent):\n",
    "            center_name: str = file_name.replace('.csv', '')\n",
    "            path = os.path.join(parent, file_name)\n",
    "            df: pd.DataFrame = load_csv(path)\n",
    "            row: list[str] = [format_center_name(center_name)]\n",
    "            for i in indexes:\n",
    "                x = df[i].mean()\n",
    "                ci = confidence_interval(df[i])\n",
    "                if ci == 0:\n",
    "                    cell = '-'\n",
    "                else:\n",
    "                    cell = f'${x:.4f}\\\\pm{sci(ci)}$'\n",
    "                row.append(cell)\n",
    "            data.append(row)\n",
    "        columns = ['Centro']\n",
    "        columns.extend(map(lambda i: f'${i}$', indexes))\n",
    "        table = pd.DataFrame(data, columns=columns)\n",
    "        path: str = os.path.join(parent_dir, f'{sim}_output.tex')        \n",
    "        table.style.hide(axis=\"index\").to_latex(path, hrules=True)\n",
    "        data.clear()"
   ],
   "id": "c0badfbe963416d0",
   "outputs": [],
   "execution_count": 32
  },
  {
   "metadata": {
    "ExecuteTime": {
     "end_time": "2024-08-20T08:20:25.529090Z",
     "start_time": "2024-08-20T08:20:25.477494Z"
    }
   },
   "cell_type": "code",
   "source": "create_table('tex', indexes=['E[Ns]', 'E[Ts]', 'E[Nq]', 'E[Tq]'])",
   "id": "3d376a272b7c0d22",
   "outputs": [],
   "execution_count": 33
  },
  {
   "metadata": {},
   "cell_type": "code",
   "outputs": [],
   "execution_count": null,
   "source": "",
   "id": "af40bbee3885279f"
  }
 ],
 "metadata": {
  "kernelspec": {
   "display_name": "Python 3",
   "language": "python",
   "name": "python3"
  },
  "language_info": {
   "codemirror_mode": {
    "name": "ipython",
    "version": 2
   },
   "file_extension": ".py",
   "mimetype": "text/x-python",
   "name": "python",
   "nbconvert_exporter": "python",
   "pygments_lexer": "ipython2",
   "version": "2.7.6"
  }
 },
 "nbformat": 4,
 "nbformat_minor": 5
}
