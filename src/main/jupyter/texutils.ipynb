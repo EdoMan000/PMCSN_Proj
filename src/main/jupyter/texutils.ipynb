{
 "cells": [
  {
   "metadata": {
    "ExecuteTime": {
     "end_time": "2024-08-19T22:36:18.695698Z",
     "start_time": "2024-08-19T22:36:18.688474Z"
    }
   },
   "cell_type": "code",
   "source": [
    "import math\n",
    "import os\n",
    "import pandas as pd\n",
    "\n",
    "import rvms\n",
    "\n",
    "csv_dir = '../../../csvFiles/'\n",
    "if csv_dir == '':\n",
    "    raise ValueError('Specificare un percorso valido!')\n",
    "\n",
    "def load_csv(path: str) -> pd.DataFrame:\n",
    "    return pd.read_csv(path, sep='\\\\s*,\\\\s*', engine='python')\n",
    "\n",
    "def confidence_interval(values: list[float], loc: float=0.95) -> float:\n",
    "    n: int = len(values)\n",
    "    if n <= 1:\n",
    "        raise ValueError(\"list of 2+ elements required\")\n",
    "    mean = sum(values) / n\n",
    "    std = sum(map(lambda x: (x - mean)**2, values)) / n\n",
    "    u = 1.0 - 0.5 * (1.0 - loc)\n",
    "    t = rvms.idfStudent(n - 1, u)\n",
    "    return t * std / math.sqrt(n - 1)\n",
    "    "
   ],
   "id": "ec59b182e29e05e",
   "outputs": [],
   "execution_count": 60
  },
  {
   "metadata": {
    "ExecuteTime": {
     "end_time": "2024-08-19T22:38:41.499157Z",
     "start_time": "2024-08-19T22:38:41.483897Z"
    }
   },
   "cell_type": "code",
   "source": [
    "def format_center_name(s: str) -> str:\n",
    "    return s.replace('_', ' ')\n",
    "\n",
    "def create_table(\n",
    "        simulation_type = ('FINITE_SIMULATION', 'IMPROVED_FINITE_SIMULATION'),\n",
    "        indexes = ('E[Ns]', 'E[Ts]', 'E[Nq]', 'E[Tq]', 'E[s]', 'ρ', 'λ')):\n",
    "    data: list[list[str]] = []\n",
    "    # ['Reparto Istruttorie', 'Scoring Automatico', 'Comitato Credito', 'Reparto Liquidazioni']\n",
    "    for sim in simulation_type:\n",
    "        parent = os.path.join(csv_dir, sim, 'results')\n",
    "        for file_name in os.listdir(parent):\n",
    "            center_name: str = file_name.replace('.csv', '')\n",
    "            path = os.path.join(parent, file_name)\n",
    "            df: pd.DataFrame = load_csv(path)\n",
    "            row: list[str] = [format_center_name(center_name)]\n",
    "            for i in indexes:\n",
    "                x = df[i].mean()\n",
    "                ci = confidence_interval(df[i])\n",
    "                cell = f'${x:.4f}\\\\pm{ci:.8f}$'\n",
    "                row.append(cell)\n",
    "            data.append(row)\n",
    "        columns = ['Centro']\n",
    "        columns.extend(map(lambda i: f'${i}$', indexes))\n",
    "        table = pd.DataFrame(data, columns=columns)\n",
    "        table.style.hide(axis=\"index\").to_latex(f'{sim}_output.tex', hrules=True)"
   ],
   "id": "c0badfbe963416d0",
   "outputs": [],
   "execution_count": 62
  },
  {
   "metadata": {
    "ExecuteTime": {
     "end_time": "2024-08-19T22:38:42.905315Z",
     "start_time": "2024-08-19T22:38:42.861460Z"
    }
   },
   "cell_type": "code",
   "source": "create_table(indexes=['E[Ns]', 'E[Ts]', 'E[Nq]', 'E[Tq]'])",
   "id": "3d376a272b7c0d22",
   "outputs": [],
   "execution_count": 63
  },
  {
   "metadata": {},
   "cell_type": "code",
   "outputs": [],
   "execution_count": null,
   "source": "",
   "id": "af40bbee3885279f"
  }
 ],
 "metadata": {
  "kernelspec": {
   "display_name": "Python 3",
   "language": "python",
   "name": "python3"
  },
  "language_info": {
   "codemirror_mode": {
    "name": "ipython",
    "version": 2
   },
   "file_extension": ".py",
   "mimetype": "text/x-python",
   "name": "python",
   "nbconvert_exporter": "python",
   "pygments_lexer": "ipython2",
   "version": "2.7.6"
  }
 },
 "nbformat": 4,
 "nbformat_minor": 5
}
